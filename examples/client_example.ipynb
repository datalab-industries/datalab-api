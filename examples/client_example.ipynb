{
 "cells": [
  {
   "cell_type": "markdown",
   "id": "b092fa91-dfd5-44c9-8e8d-32f4c397cd21",
   "metadata": {},
   "source": [
    "# *datalab* Python API example notebook\n",
    "\n",
    "This notebook will run through some of the common operations you might want to perform with the Python API.\n",
    "\n",
    "It uses the public deployment at https://public.datalab.odbx.science via its API endpoint at https://public.api.odbx.science. You can register an account there with a valid ORCID and generate an API key for yourself at https://public.api.odbx.science/generate-api-key, after logging in.\n",
    "\n",
    "In this notebook, we'll add some fake data to the public deployment, upload some files and create some data blocks."
   ]
  },
  {
   "cell_type": "code",
   "execution_count": null,
   "id": "ce9a2a8d-f688-481e-ac18-8d1d71714379",
   "metadata": {},
   "outputs": [],
   "source": [
    "from datalab_api import DatalabClient"
   ]
  },
  {
   "cell_type": "markdown",
   "id": "9f09584a-188a-4dd9-8ae5-2636000b0004",
   "metadata": {},
   "source": [
    "First, we need to tell the client which *datalab* instance to connect to. You need to use the API URL, rather than the URL for the web UI for this."
   ]
  },
  {
   "cell_type": "code",
   "execution_count": null,
   "id": "3fcd922c-e1aa-4287-a67b-06ab02cef42b",
   "metadata": {},
   "outputs": [],
   "source": [
    "client = DatalabClient(\"public.api.odbx.science\")"
   ]
  },
  {
   "cell_type": "code",
   "execution_count": null,
   "id": "d37be1ed-a37c-4262-b53a-bfb4b98acca5",
   "metadata": {},
   "outputs": [],
   "source": [
    "client.get_info(display=True);"
   ]
  },
  {
   "cell_type": "code",
   "execution_count": null,
   "id": "08bff0e5-f708-4a8f-9e18-bf737607844d",
   "metadata": {},
   "outputs": [],
   "source": [
    "item2 = client.get_item(\"CX237_181236\", display=True)"
   ]
  },
  {
   "cell_type": "code",
   "execution_count": null,
   "id": "85e7a405-6739-4106-9b90-050f5efc529e",
   "metadata": {},
   "outputs": [],
   "source": [
    "client.upload_file(\n",
    "    item_id=\"CX237_181236\", \n",
    "    file_path=\"/home/mevans/repos/datalab/datalab/pydatalab/example_data/echem/jdb11-1_e1_s3_squidTest_data_C15.mpr\",\n",
    "    display=True\n",
    ")"
   ]
  },
  {
   "cell_type": "code",
   "execution_count": null,
   "id": "4449e621-c736-4874-ba70-b856a1347998",
   "metadata": {},
   "outputs": [],
   "source": [
    "client.create_data_block(\n",
    "    item_id=\"CX237_181236\", block_type=\"cycle\", file_ids=\"6617feddbbebcb1ca3d38595\", display=True\n",
    ");"
   ]
  },
  {
   "cell_type": "code",
   "execution_count": null,
   "id": "9ea2e279-4708-43e2-bcfb-1358e48d759c",
   "metadata": {},
   "outputs": [],
   "source": [
    "client.get_item(item_id=\"CX237_181236\", display=True, load_blocks=True);"
   ]
  },
  {
   "cell_type": "code",
   "execution_count": null,
   "id": "40509e65-480c-422a-8093-54eb90f50c7d",
   "metadata": {},
   "outputs": [],
   "source": [
    "client.get_item(item_id=\"test1\", load_blocks=True, display=True);"
   ]
  },
  {
   "cell_type": "code",
   "execution_count": null,
   "id": "6c79e238-10db-4857-9301-11e61bc38da0",
   "metadata": {},
   "outputs": [],
   "source": []
  }
 ],
 "metadata": {
  "kernelspec": {
   "display_name": "Python 3 (ipykernel)",
   "language": "python",
   "name": "python3"
  },
  "language_info": {
   "codemirror_mode": {
    "name": "ipython",
    "version": 3
   },
   "file_extension": ".py",
   "mimetype": "text/x-python",
   "name": "python",
   "nbconvert_exporter": "python",
   "pygments_lexer": "ipython3",
   "version": "3.11.7"
  }
 },
 "nbformat": 4,
 "nbformat_minor": 5
}
